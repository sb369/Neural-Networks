{
 "cells": [
  {
   "cell_type": "code",
   "execution_count": 67,
   "metadata": {
    "colab": {
     "base_uri": "https://localhost:8080/",
     "height": 282
    },
    "executionInfo": {
     "elapsed": 1814,
     "status": "ok",
     "timestamp": 1608361602146,
     "user": {
      "displayName": "SB- 9",
      "photoUrl": "https://lh3.googleusercontent.com/a-/AOh14Ggaealg2y2yZqJ6RpX3cZBcdBwTfdZCR-fQeicC-A=s64",
      "userId": "01448517634576686850"
     },
     "user_tz": -330
    },
    "id": "T6VGs7h44Zwb",
    "outputId": "03201e2a-30c2-4787-f2ef-5b930d1dfecd"
   },
   "outputs": [
    {
     "data": {
      "text/plain": [
       "<matplotlib.image.AxesImage at 0x7fcdf5cd7f60>"
      ]
     },
     "execution_count": 67,
     "metadata": {
      "tags": []
     },
     "output_type": "execute_result"
    },
    {
     "data": {
      "image/png": "[encoded data removed]",
      "text/plain": [
       "<Figure size 432x288 with 1 Axes>"
      ]
     },
     "metadata": {
      "needs_background": "light",
      "tags": []
     },
     "output_type": "display_data"
    }
   ],
   "source": [
    "import tensorflow as tf\n",
    "import matplotlib.pyplot as plt\n",
    "import numpy as np\n",
    "mnist_data = tf.keras.datasets.mnist\n",
    "(x, y), (x_test, y_test) = mnist_data.load_data()\n",
    "# x_train=np.reshape(x_train,(60000,784))\n",
    "# x_train = x_train.T\n",
    "# y_new = np.eye(10)[y_train.astype('int32')]\n",
    "# print(y_train.shape)\n",
    "# y_new = y_new.T.reshape(10,60000)\n",
    "# y_train = y_new\n",
    "# print(x_train.shape)\n",
    "# print(y_new[:,0])\n",
    "\n",
    "x=np.reshape(x,(60000,784))\n",
    "x = x.T\n",
    "i = np.arange(y.shape[0])\n",
    "y_ = np.zeros((10,60000))\n",
    "y_[y.astype(int),i] = 1\n",
    "plt.imshow(x[:,0].reshape(28,28), cmap = plt.cm.binary)"
   ]
  },
  {
   "cell_type": "code",
   "execution_count": 67,
   "metadata": {
    "executionInfo": {
     "elapsed": 680,
     "status": "ok",
     "timestamp": 1608361602776,
     "user": {
      "displayName": "SB- 9",
      "photoUrl": "https://lh3.googleusercontent.com/a-/AOh14Ggaealg2y2yZqJ6RpX3cZBcdBwTfdZCR-fQeicC-A=s64",
      "userId": "01448517634576686850"
     },
     "user_tz": -330
    },
    "id": "By_ulAJ_5qpV"
   },
   "outputs": [],
   "source": []
  },
  {
   "cell_type": "code",
   "execution_count": 68,
   "metadata": {
    "executionInfo": {
     "elapsed": 1002,
     "status": "ok",
     "timestamp": 1608361604240,
     "user": {
      "displayName": "SB- 9",
      "photoUrl": "https://lh3.googleusercontent.com/a-/AOh14Ggaealg2y2yZqJ6RpX3cZBcdBwTfdZCR-fQeicC-A=s64",
      "userId": "01448517634576686850"
     },
     "user_tz": -330
    },
    "id": "P3k3H-N-7iF4"
   },
   "outputs": [],
   "source": [
    "x = x/255.0\n",
    "#separating train and test\n",
    "x_train = x[:,:-10000]\n",
    "x_test = x[:,-10000:]\n",
    "y_test = y_[:,-10000:]\n",
    "y_train = y_[:,:-10000]"
   ]
  },
  {
   "cell_type": "code",
   "execution_count": 69,
   "metadata": {
    "executionInfo": {
     "elapsed": 1509,
     "status": "ok",
     "timestamp": 1608361605805,
     "user": {
      "displayName": "SB- 9",
      "photoUrl": "https://lh3.googleusercontent.com/a-/AOh14Ggaealg2y2yZqJ6RpX3cZBcdBwTfdZCR-fQeicC-A=s64",
      "userId": "01448517634576686850"
     },
     "user_tz": -330
    },
    "id": "mbKmdFjK-7Ac"
   },
   "outputs": [],
   "source": [
    "def loss(y, h):\n",
    "\n",
    "    L_sum = np.sum(y*np.log(h)) + np.sum((1-y)*(np.log(1-h)))\n",
    "    m = y.shape[1]\n",
    "    L = -(1/m) * L_sum\n",
    "\n",
    "    return L"
   ]
  },
  {
   "cell_type": "code",
   "execution_count": 70,
   "metadata": {
    "executionInfo": {
     "elapsed": 1212,
     "status": "ok",
     "timestamp": 1608361606372,
     "user": {
      "displayName": "SB- 9",
      "photoUrl": "https://lh3.googleusercontent.com/a-/AOh14Ggaealg2y2yZqJ6RpX3cZBcdBwTfdZCR-fQeicC-A=s64",
      "userId": "01448517634576686850"
     },
     "user_tz": -330
    },
    "id": "C7vnLcp2-9-D"
   },
   "outputs": [],
   "source": [
    "def sig(z):\n",
    "    h= 1/(1+np.exp(-z))\n",
    "    return h"
   ]
  },
  {
   "cell_type": "code",
   "execution_count": 71,
   "metadata": {
    "executionInfo": {
     "elapsed": 838,
     "status": "ok",
     "timestamp": 1608361606833,
     "user": {
      "displayName": "SB- 9",
      "photoUrl": "https://lh3.googleusercontent.com/a-/AOh14Ggaealg2y2yZqJ6RpX3cZBcdBwTfdZCR-fQeicC-A=s64",
      "userId": "01448517634576686850"
     },
     "user_tz": -330
    },
    "id": "Wuj_SLNv-_g5"
   },
   "outputs": [],
   "source": [
    "n_x = x_train.shape[0]\n",
    "n_l2 = 256\n",
    "n_l3 = 128\n",
    "n_l4 = 64\n",
    "learning_rate = 1\n",
    "m = y_train.shape[1]\n",
    "W1 = np.random.randn(n_l2, n_x)\n",
    "W2 = np.random.randn(n_l3,n_l2)\n",
    "W3 = np.random.randn(n_l4, n_l3)\n",
    "W4 = np.random.randn(10,n_l4)\n",
    "b1 = np.random.randn(n_l2, 1)\n",
    "b2 = np.random.randn(n_l3, 1)\n",
    "b3 = np.random.randn(n_l4,1)\n",
    "b4 = np.random.randn(10,1)\n",
    "X = x_train\n",
    "Y = y_train "
   ]
  },
  {
   "cell_type": "code",
   "execution_count": 72,
   "metadata": {
    "colab": {
     "base_uri": "https://localhost:8080/"
    },
    "executionInfo": {
     "elapsed": 2617964,
     "status": "ok",
     "timestamp": 1608364230620,
     "user": {
      "displayName": "SB- 9",
      "photoUrl": "https://lh3.googleusercontent.com/a-/AOh14Ggaealg2y2yZqJ6RpX3cZBcdBwTfdZCR-fQeicC-A=s64",
      "userId": "01448517634576686850"
     },
     "user_tz": -330
    },
    "id": "rDZgSdWS_BJo",
    "outputId": "2e18fc89-1fc7-4fb9-8b3b-50bf264b307e"
   },
   "outputs": [
    {
     "name": "stdout",
     "output_type": "stream",
     "text": [
      "Epoch 0 cost:  27.93604948029666\n",
      "Epoch 100 cost:  1.5293208821553508\n",
      "Epoch 200 cost:  1.0333667092667573\n",
      "Epoch 300 cost:  0.8429283863515955\n",
      "Epoch 400 cost:  0.7292854469274579\n",
      "Epoch 500 cost:  0.6498183299434733\n",
      "Epoch 600 cost:  0.5893912431831881\n",
      "Epoch 700 cost:  0.540986784018361\n",
      "Epoch 800 cost:  0.5010574448903778\n",
      "Epoch 900 cost:  0.4673361643619872\n",
      "Final cost: 0.43852604282039687\n"
     ]
    }
   ],
   "source": [
    "#batch descent with sigmoid 3 layers\n",
    "for i in range(1000):\n",
    "\n",
    "    Z2 = np.dot(W1,X) + b1\n",
    "    A2 = sig(Z2)\n",
    "    Z3 = np.dot(W2,A2) + b2\n",
    "    A3 = sig(Z3)\n",
    "    Z4 = np.dot(W3,A3) + b3\n",
    "    A4 = sig(Z4)\n",
    "    Z5 = np.dot(W4,A4) + b4\n",
    "    A5 = sig(Z5)\n",
    "        \n",
    "    cost= loss(Y, A5)\n",
    "        \n",
    "    dZ5 = A5-Y\n",
    "    dW4 = (1./m) * np.dot(dZ5, A4.T)\n",
    "    db4 = (1./m) * np.sum(dZ5, axis=1, keepdims=True)\n",
    "        \n",
    "    dA4 = np.dot(W4.T, dZ5)\n",
    "    dZ4 = dA4 * A4 * (1-A4)\n",
    "    dW3 = (1./m) * np.dot(dZ4, A3.T)\n",
    "    db3 = (1./m) * np.sum(dZ4, axis=1, keepdims=True)\n",
    "    \n",
    "    dA3 = np.dot(W3.T,dZ4)\n",
    "    dZ3 = dA3 * A3 * (1-A3)\n",
    "    dW2 = (1./m) * np.dot(dZ3, A2.T)\n",
    "    db2 = (1./m) * np.sum(dZ3, axis=1, keepdims=True)\n",
    "    \n",
    "    dA2 = np.dot(W2.T,dZ3)\n",
    "    dZ2 = dA2 * A2 * (1-A2)\n",
    "    dW1 = (1./m) * np.dot(dZ2, X.T)\n",
    "    db1 = (1./m) * np.sum(dZ2, axis=1, keepdims=True)\n",
    "    \n",
    "    W4 = W4 - (learning_rate * dW4)\n",
    "    b4 = b4 - (learning_rate * db4)\n",
    "    W3 = W3 - (learning_rate * dW3)\n",
    "    b3 = b3 - (learning_rate * db3)\n",
    "    W2 = W2 - (learning_rate * dW2)\n",
    "    b2 = b2 - (learning_rate * db2)\n",
    "    W1 = W1 - (learning_rate * dW1)\n",
    "    b1 = b1 - (learning_rate * db1)\n",
    "\n",
    "    if (i % 100 == 0):\n",
    "        print(\"Epoch\", i, \"cost: \", cost)\n",
    "\n",
    "print(\"Final cost:\", cost)\n"
   ]
  },
  {
   "cell_type": "markdown",
   "metadata": {
    "id": "ZcfvXzTMcYMj"
   },
   "source": []
  },
  {
   "cell_type": "code",
   "execution_count": 73,
   "metadata": {
    "colab": {
     "base_uri": "https://localhost:8080/"
    },
    "executionInfo": {
     "elapsed": 1554,
     "status": "ok",
     "timestamp": 1608366921835,
     "user": {
      "displayName": "SB- 9",
      "photoUrl": "https://lh3.googleusercontent.com/a-/AOh14Ggaealg2y2yZqJ6RpX3cZBcdBwTfdZCR-fQeicC-A=s64",
      "userId": "01448517634576686850"
     },
     "user_tz": -330
    },
    "id": "KgMzzufuA141",
    "outputId": "ac2551e5-c001-4ab2-bb58-13a3e672f7fb"
   },
   "outputs": [
    {
     "name": "stdout",
     "output_type": "stream",
     "text": [
      "91.53\n"
     ]
    }
   ],
   "source": [
    "Z2 = np.matmul(W1, x_test) + b1\n",
    "A2 = sig(Z2)\n",
    "Z3 = np.dot(W2,A2) + b2\n",
    "A3 = sig(Z3)\n",
    "Z4 = np.dot(W3,A3) + b3\n",
    "A4 = sig(Z4)\n",
    "Z5 = np.dot(W4,A4) + b4\n",
    "A5 = sig(Z5)\n",
    "\n",
    "prediction = np.argmax(A5, axis=0)\n",
    "labels = np.argmax(y_test, axis=0)\n",
    "\n",
    "diff=prediction-labels \n",
    "accuracy = 1.0 - (float(np.count_nonzero(diff)) / len(diff))\n",
    "print(accuracy*100)"
   ]
  },
  {
   "cell_type": "code",
   "execution_count": 59,
   "metadata": {
    "executionInfo": {
     "elapsed": 1029,
     "status": "ok",
     "timestamp": 1608361266705,
     "user": {
      "displayName": "SB- 9",
      "photoUrl": "https://lh3.googleusercontent.com/a-/AOh14Ggaealg2y2yZqJ6RpX3cZBcdBwTfdZCR-fQeicC-A=s64",
      "userId": "01448517634576686850"
     },
     "user_tz": -330
    },
    "id": "KdKJqAWrUI_o"
   },
   "outputs": [],
   "source": []
  },
  {
   "cell_type": "code",
   "execution_count": 59,
   "metadata": {
    "executionInfo": {
     "elapsed": 1018,
     "status": "ok",
     "timestamp": 1608361269191,
     "user": {
      "displayName": "SB- 9",
      "photoUrl": "https://lh3.googleusercontent.com/a-/AOh14Ggaealg2y2yZqJ6RpX3cZBcdBwTfdZCR-fQeicC-A=s64",
      "userId": "01448517634576686850"
     },
     "user_tz": -330
    },
    "id": "xMfymvA1dPxt"
   },
   "outputs": [],
   "source": []
  },
  {
   "cell_type": "code",
   "execution_count": null,
   "metadata": {
    "id": "XawgOKtRdZ3Z"
   },
   "outputs": [],
   "source": []
  }
 ],
 "metadata": {
  "colab": {
   "authorship_tag": "ABX9TyNwscPYFntFVX0pjDSpyezi",
   "collapsed_sections": [],
   "mount_file_id": "1Np_TAxu6GQGEzYzREfN-5Ot1uRuKj2vn",
   "name": "Mnist.ipynb",
   "provenance": []
  },
  "kernelspec": {
   "display_name": "Python 3",
   "language": "python",
   "name": "python3"
  },
  "language_info": {
   "codemirror_mode": {
    "name": "ipython",
    "version": 3
   },
   "file_extension": ".py",
   "mimetype": "text/x-python",
   "name": "python",
   "nbconvert_exporter": "python",
   "pygments_lexer": "ipython3",
   "version": "3.6.9"
  }
 },
 "nbformat": 4,
 "nbformat_minor": 1
}
