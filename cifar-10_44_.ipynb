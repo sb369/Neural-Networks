{
 "cells": [
  {
   "cell_type": "code",
   "execution_count": 15,
   "metadata": {
    "executionInfo": {
     "elapsed": 1070,
     "status": "ok",
     "timestamp": 1609909995282,
     "user": {
      "displayName": "SB- 9",
      "photoUrl": "https://lh3.googleusercontent.com/a-/AOh14Ggaealg2y2yZqJ6RpX3cZBcdBwTfdZCR-fQeicC-A=s64",
      "userId": "01448517634576686850"
     },
     "user_tz": -330
    },
    "id": "T6VGs7h44Zwb"
   },
   "outputs": [],
   "source": [
    "import tensorflow as tf\n",
    "import numpy as np\n",
    "import pandas as pd\n",
    "import cv2 as cv\n",
    "import matplotlib.pyplot as plt\n"
   ]
  },
  {
   "cell_type": "code",
   "execution_count": 16,
   "metadata": {
    "executionInfo": {
     "elapsed": 92575,
     "status": "ok",
     "timestamp": 1609910088108,
     "user": {
      "displayName": "SB- 9",
      "photoUrl": "https://lh3.googleusercontent.com/a-/AOh14Ggaealg2y2yZqJ6RpX3cZBcdBwTfdZCR-fQeicC-A=s64",
      "userId": "01448517634576686850"
     },
     "user_tz": -330
    },
    "id": "7-xl85y4AH7u"
   },
   "outputs": [],
   "source": [
    "df1 = pd.read_csv('drive/MyDrive/cifar_x.csv')\n",
    "df2 = pd.read_csv('drive/MyDrive/cifar_y.csv')"
   ]
  },
  {
   "cell_type": "markdown",
   "metadata": {},
   "source": [
    "# neural nets in numpy:"
   ]
  },
  {
   "cell_type": "code",
   "execution_count": 17,
   "metadata": {
    "executionInfo": {
     "elapsed": 1225,
     "status": "ok",
     "timestamp": 1609910089349,
     "user": {
      "displayName": "SB- 9",
      "photoUrl": "https://lh3.googleusercontent.com/a-/AOh14Ggaealg2y2yZqJ6RpX3cZBcdBwTfdZCR-fQeicC-A=s64",
      "userId": "01448517634576686850"
     },
     "user_tz": -330
    },
    "id": "By_ulAJ_5qpV"
   },
   "outputs": [],
   "source": [
    "def sigmoid(z):\n",
    "    a = 1/(1 + np.exp(-z))\n",
    "    return a\n",
    "\n",
    "def relu(Z):\n",
    "    z = np.copy(Z)\n",
    "    np.maximum(z,0,z)\n",
    "    return z\n",
    "\n",
    "def leaky_relu(Z,slope=0.001):\n",
    "    z = np.copy(Z)\n",
    "    np.maximum(z,slope*z,z)\n",
    "    return z\n",
    "\n",
    "def derivative_leaky(a,slope=0.001):\n",
    "    da = np.int64(a>0)*1 + np.int64(a<=0)*slope\n",
    "    return da\n",
    "\n",
    "def softmax(z):\n",
    "    a = np.exp(z)/np.sum(np.exp(z),axis=0)\n",
    "    return a\n",
    "\n",
    "def derivative_relu(a):\n",
    "    da = np.int64(a>0)*1\n",
    "    return da\n",
    "\n",
    "def derivative_sig(a):\n",
    "    da = a * (1-a)\n",
    "    return da\n",
    "\n",
    "def initialize_parameters(layer_dims):\n",
    "    # layer_dims is a list of nodes in each layer. architechture of the network\n",
    "    # we are doing he-initialization\n",
    "    parameters = {}\n",
    "    L = len(layer_dims)\n",
    "    \n",
    "    for l in range(1,L):\n",
    "        parameters[\"W\"+str(l)] = np.random.randn(layer_dims[l],layer_dims[l-1]) * np.sqrt(2/layer_dims[l-1])\n",
    "        parameters[\"b\"+str(l)] = np.zeros((layer_dims[l],1))\n",
    "        \n",
    "        assert(parameters['W' + str(l)].shape == (layer_dims[l], layer_dims[l - 1]))\n",
    "        assert(parameters['b' + str(l)].shape == (layer_dims[l], 1))\n",
    "    \n",
    "    return parameters    \n",
    "\n",
    "def organize_activations(activations,L):\n",
    "    #activations: list of strings of activations\n",
    "    #L: no. of layers (excluding input)\n",
    "    acts = {}\n",
    "    if activations is None:\n",
    "        for l in range(1,L):\n",
    "            acts[\"act\"+str(l)] = \"relu\"\n",
    "        acts[\"act\"+str(L)] = \"sigmoid\"\n",
    "    else:\n",
    "        for l in range(1,L+1):\n",
    "            acts[\"act\"+str(l)] = activations[l-1]\n",
    "    return acts\n",
    "\n",
    "def get_keep_probs(d):\n",
    "    if d is None:\n",
    "        return None\n",
    "    else :\n",
    "        d = np.array(d)\n",
    "        a = 1-d\n",
    "        return a\n",
    "        "
   ]
  },
  {
   "cell_type": "code",
   "execution_count": 18,
   "metadata": {
    "executionInfo": {
     "elapsed": 1801,
     "status": "ok",
     "timestamp": 1609910089942,
     "user": {
      "displayName": "SB- 9",
      "photoUrl": "https://lh3.googleusercontent.com/a-/AOh14Ggaealg2y2yZqJ6RpX3cZBcdBwTfdZCR-fQeicC-A=s64",
      "userId": "01448517634576686850"
     },
     "user_tz": -330
    },
    "id": "P3k3H-N-7iF4"
   },
   "outputs": [],
   "source": [
    "def find_z(A_prev,W,b):\n",
    "    # A_prev: activation from prev layer\n",
    "    # W,b: weights and bias of current layer\n",
    "    \n",
    "    z = np.dot(W,A_prev) + b\n",
    "    \n",
    "    assert(z.shape == (W.shape[0],A_prev.shape[1]))\n",
    "    cache = (A_prev,W,b)\n",
    "    \n",
    "    return z,cache #cache format returned for a layer: (A_prev,W,b)\n",
    "\n",
    "def forward_activation(A_prev,W,b,activation):\n",
    "    z,cache = find_z(A_prev,W,b)\n",
    "    \n",
    "    if activation == \"sigmoid\":\n",
    "        a = sigmoid(z)\n",
    "    elif activation == \"relu\":\n",
    "        a = relu(z)\n",
    "    elif activation == \"softmax\":\n",
    "        a = softmax(z)\n",
    "    elif activation == \"leaky_relu\":\n",
    "        a = leaky_relu(z)\n",
    "    \n",
    "    assert (a.shape == (W.shape[0], A_prev.shape[1]))\n",
    "    cache = (cache,a)\n",
    "    \n",
    "    return a,cache #cache format for a layer: ((A_prev,W,b),A)\n",
    "\n",
    "#feed forward network\n",
    "def forward_propagation(X,parameters,acts=None):\n",
    "    L = len(parameters)//2\n",
    "    A = X\n",
    "    caches = []\n",
    "    \n",
    "    if acts is None:\n",
    "        acts = organize_activations(acts,L)\n",
    "    \n",
    "    for l in range(1,L):\n",
    "        A_prev = A\n",
    "        A,cache = forward_activation(A_prev,parameters[\"W\"+str(l)],parameters[\"b\"+str(l)],activation=acts[\"act\"+str(l)])\n",
    "        caches.append(cache)\n",
    "        \n",
    "    A_L,cache = forward_activation(A,parameters[\"W\"+str(L)],parameters[\"b\"+str(L)],activation=acts[\"act\"+str(L)])\n",
    "    caches.append(cache)\n",
    "    \n",
    "    return A_L,caches #caches is for each layer(except input): ((A_prev,W,b),A)\n",
    "\n",
    "#forward prop with dropouts:\n",
    "def forward_activation_with_dropouts(A_prev,W,b,activation,keep_prob):\n",
    "    z,cache = find_z(A_prev,W,b)\n",
    "    \n",
    "    if activation == \"sigmoid\":\n",
    "        a = sigmoid(z)\n",
    "    elif activation == \"relu\":\n",
    "        a = relu(z)\n",
    "    elif activation == \"softmax\":\n",
    "        a = softmax(z)\n",
    "    elif activation == \"leaky_relu\":\n",
    "        a = leaky_relu(z)\n",
    "    \n",
    "    #dropping out\n",
    "    D = np.random.rand(a.shape[0],a.shape[1])\n",
    "    D = D < keep_prob\n",
    "    a = a * D\n",
    "    a = a / keep_prob\n",
    "    \n",
    "    assert (a.shape == (W.shape[0], A_prev.shape[1]))\n",
    "    cache = (cache,a,D)\n",
    "    \n",
    "    return a,cache #cache format for a layer: ((A_prev,W,b),A,D)\n",
    "\n",
    "def forward_propagation_with_dropouts(X,parameters,keep_probs,acts=None):\n",
    "    #keep_probs: list of keep_probs\n",
    "    L = len(parameters)//2\n",
    "    A = X\n",
    "    caches = []\n",
    "    \n",
    "    if acts is None:\n",
    "        acts = organize_activations(acts,L)\n",
    "    \n",
    "    for l in range(1,L):\n",
    "        A_prev = A\n",
    "        A,cache = forward_activation_with_dropouts(A_prev,parameters[\"W\"+str(l)],parameters[\"b\"+str(l)],activation=acts[\"act\"+str(l)],keep_prob=keep_probs[l-1])\n",
    "        caches.append(cache)\n",
    "        \n",
    "    A_L,cache = forward_activation_with_dropouts(A,parameters[\"W\"+str(L)],parameters[\"b\"+str(L)],activation=acts[\"act\"+str(L)],keep_prob=1)\n",
    "    caches.append(cache)\n",
    "    \n",
    "    return A_L,caches # caches for each layer: ((A_prev,W,b),A,D)\n",
    "\n",
    "def loss(h,y):\n",
    "    #L_sum = np.sum(y*np.log(h)) + np.sum((1-y)*(np.log(1-h)))\n",
    "    #even if one prediction is way off then cost shoots up to inf. you can use any of the two eqns in this code\n",
    "    L_sum = np.sum(np.log(h[y==1])) + np.sum(np.log(1-h[y==0]))\n",
    "    m = y.shape[1]\n",
    "    L = -(1/m) * L_sum\n",
    "\n",
    "    return L\n",
    "\n",
    "def loss_with_regularization(h,y,parameters,lambd):\n",
    "    m = y.shape[1]\n",
    "    L = len(parameters)//2\n",
    "    cross_entropy_cost = loss(h,y)\n",
    "    L2_regularization_cost = 0\n",
    "    for l in range(L):\n",
    "        L2_regularization_cost += np.sum(np.square(parameters[\"W\"+str(l+1)]))\n",
    "    L2_regularization_cost = lambd * L2_regularization_cost / (2*m)\n",
    "    cost = cross_entropy_cost + L2_regularization_cost\n",
    "    return cost\n",
    "\n",
    "def find_grads(dz,cache,lambd):\n",
    "    A_prev, W, b = cache\n",
    "    m = A_prev.shape[1]\n",
    "    \n",
    "    dW = (np.dot(dz,A_prev.T) / m) + (lambd * W)/m\n",
    "    db = np.sum(dz,axis=1,keepdims=True) / m\n",
    "    dA_prev = np.dot(W.T,dz)\n",
    "    \n",
    "    assert (dA_prev.shape == A_prev.shape)\n",
    "    assert (dW.shape == W.shape)\n",
    "    assert (db.shape == b.shape)\n",
    "    \n",
    "    return dA_prev, dW, db\n",
    "\n",
    "def linear_backwards(dA,cache,activation,lambd,keep_prop=None):\n",
    "    if keep_prop is None:\n",
    "        c,A = cache\n",
    "    else:\n",
    "        c,A,D = cache\n",
    "        dA = dA * D\n",
    "        dA = dA / keep_prop\n",
    "        A = A * keep_prop # just to find accurate derivative for my defined functions. \n",
    "        #the above line won't matter in relu/leaky but better approximation for sigmoid\n",
    "        \n",
    "    if activation == \"relu\":\n",
    "        dz = dA * derivative_relu(A)\n",
    "    \n",
    "    elif activation == \"sigmoid\":\n",
    "        dz = dA * derivative_sig(A)\n",
    "        \n",
    "    elif activation == \"leaky_relu\":\n",
    "        dz = dA * derivative_leaky(A)\n",
    "     \n",
    "    dA_prev, dW, db = find_grads(dz, c,lambd)\n",
    "    return dA_prev,dW,db\n",
    "\n",
    "def backprop(A_L,Y,caches,lambd,acts=None,keep_probs=None):\n",
    "    grads = {}\n",
    "    L = len(caches)\n",
    "    m = A_L.shape[1]\n",
    "    Y = Y.reshape(A_L.shape)\n",
    "    \n",
    "    if not acts:\n",
    "        acts = organize_activations(acts,L)\n",
    "    \n",
    "    \n",
    "    cache = caches[-1]\n",
    "    grads[\"dA\" + str(L-1)], grads[\"dW\" + str(L)], grads[\"db\" + str(L)] = find_grads((A_L-Y),cache[0],lambd)\n",
    "    \n",
    "    if keep_probs is None:\n",
    "        for l in reversed(range(L-1)):\n",
    "            cache = caches[l]\n",
    "            grads[\"dA\" + str(l)], grads[\"dW\" + str(l+1)], grads[\"db\" + str(l+1)] = linear_backwards(grads[\"dA\"+str(l+1)],cache,activation=acts[\"act\"+str(l+1)],lambd=lambd)\n",
    "    \n",
    "    else:\n",
    "        for l in reversed(range(L-1)):\n",
    "            cache = caches[l]\n",
    "            grads[\"dA\" + str(l)], grads[\"dW\" + str(l+1)], grads[\"db\" + str(l+1)] = linear_backwards(grads[\"dA\"+str(l+1)],cache,activation=acts[\"act\"+str(l+1)],lambd=lambd,keep_prop=keep_probs[l])\n",
    "    \n",
    "    return grads\n",
    "\n",
    "def update_parameters(parameters,grads,learning_rate):\n",
    "    L = len(parameters)//2\n",
    "    \n",
    "    for l in range(L):\n",
    "        parameters[\"W\" + str(l+1)] = parameters[\"W\" + str(l+1)] - learning_rate * grads[\"dW\" + str(l+1)]\n",
    "        parameters[\"b\" + str(l+1)] = parameters[\"b\" + str(l+1)] - learning_rate * grads[\"db\" + str(l+1)]\n",
    "        \n",
    "    return parameters\n",
    "\n",
    "def random_mini_batches(X,Y,batch_size,shuffle):\n",
    "    m = X.shape[1]\n",
    "    batches = []\n",
    "    \n",
    "    if shuffle:\n",
    "        permutation = list(np.random.permutation(m))\n",
    "        shuffled_X = X[:,permutation]\n",
    "        shuffled_Y = Y[:,permutation]\n",
    "    \n",
    "    else:\n",
    "        shuffled_X = X\n",
    "        shuffled_Y = Y\n",
    "    \n",
    "    for i in range(m//batch_size):\n",
    "        mini_x = shuffled_X[:,i*batch_size:(i+1)*batch_size]\n",
    "        mini_y = shuffled_Y[:,i*batch_size:(i+1)*batch_size]\n",
    "        batch = (mini_x,mini_y)\n",
    "        batches.append(batch)\n",
    "    \n",
    "    if m%batch_size !=0:\n",
    "        mini_x = shuffled_X[:,batch_size*(m//batch_size):]\n",
    "        mini_y = shuffled_Y[:,batch_size*(m//batch_size):]\n",
    "        batch = (mini_x,mini_y)\n",
    "        batches.append(batch)\n",
    "    return batches\n",
    "\n",
    "def initialize_adam(parameters):\n",
    "    L = len(parameters)//2\n",
    "    v = {}\n",
    "    s = {}\n",
    "    \n",
    "    for l in range(L):\n",
    "        v[\"dW\"+str(l+1)] = np.zeros_like(parameters[\"W\"+str(l+1)])\n",
    "        v[\"db\"+str(l+1)] = np.zeros_like(parameters[\"b\"+str(l+1)])\n",
    "        \n",
    "        s[\"dW\"+str(l+1)] = np.zeros_like(parameters[\"W\"+str(l+1)])\n",
    "        s[\"db\"+str(l+1)] = np.zeros_like(parameters[\"b\"+str(l+1)])\n",
    "        \n",
    "    return v,s\n",
    "\n",
    "def update_parameters_with_adam(parameters,grads,v,s,t,lr=0.01,beta1=0.9,beta2=0.999,epsilon=1e-7):\n",
    "    L = len(parameters)//2\n",
    "    v_corrected = {}\n",
    "    s_corrected = {}\n",
    "    \n",
    "    for l in range(L):\n",
    "        v[\"dW\" + str(l + 1)] = beta1 * v[\"dW\" + str(l + 1)] + (1 - beta1) * grads['dW' + str(l + 1)]\n",
    "        v[\"db\" + str(l + 1)] = beta1 * v[\"db\" + str(l + 1)] + (1 - beta1) * grads['db' + str(l + 1)]\n",
    "        \n",
    "        s[\"dW\" + str(l + 1)] = beta2 * s[\"dW\" + str(l + 1)] + (1 - beta2) * np.power(grads['dW' + str(l + 1)], 2)\n",
    "        s[\"db\" + str(l + 1)] = beta2 * s[\"db\" + str(l + 1)] + (1 - beta2) * np.power(grads['db' + str(l + 1)], 2)\n",
    "        \n",
    "        v_corrected[\"dW\" + str(l + 1)] = v[\"dW\" + str(l + 1)] / (1 - np.power(beta1, t))\n",
    "        v_corrected[\"db\" + str(l + 1)] = v[\"db\" + str(l + 1)] / (1 - np.power(beta1, t))\n",
    "        \n",
    "        s_corrected[\"dW\" + str(l + 1)] = s[\"dW\" + str(l + 1)] / (1 - np.power(beta2, t))\n",
    "        s_corrected[\"db\" + str(l + 1)] = s[\"db\" + str(l + 1)] / (1 - np.power(beta2, t))\n",
    "        \n",
    "        parameters[\"W\"+str(l+1)] = parameters[\"W\"+str(l+1)] - lr * (v_corrected[\"dW\"+str(l+1)]/np.sqrt(s_corrected[\"dW\"+str(l+1)]+epsilon))\n",
    "        parameters[\"b\"+str(l+1)] = parameters[\"b\"+str(l+1)] - lr * (v_corrected[\"db\"+str(l+1)]/np.sqrt(s_corrected[\"db\"+str(l+1)]+epsilon))\n",
    "        \n",
    "    return parameters,v,s  \n",
    "\n",
    "def predict(X,Y,parameters):\n",
    "    Y_pred,c = forward_propagation(X,parameters)\n",
    "    prediction = np.argmax(Y_pred, axis=0)\n",
    "    labels = np.argmax(Y, axis=0)\n",
    "\n",
    "    diff=prediction-labels \n",
    "    accuracy = 1.0 - (float(np.count_nonzero(diff)) / len(diff))\n",
    "    print(accuracy*100) \n"
   ]
  },
  {
   "cell_type": "code",
   "execution_count": 45,
   "metadata": {
    "executionInfo": {
     "elapsed": 788,
     "status": "ok",
     "timestamp": 1609914033310,
     "user": {
      "displayName": "SB- 9",
      "photoUrl": "https://lh3.googleusercontent.com/a-/AOh14Ggaealg2y2yZqJ6RpX3cZBcdBwTfdZCR-fQeicC-A=s64",
      "userId": "01448517634576686850"
     },
     "user_tz": -330
    },
    "id": "mbKmdFjK-7Ac"
   },
   "outputs": [],
   "source": [
    "def fit(X,Y,layer_dims,parameters=None,activations=None,validation_data=None,drop_probs=None,lr=0.01,beta1=0.9,beta2=0.999,lambd=0,epochs=3,batch_size=256,shuffle=True,optimizer=\"adam\",print_cost=0):\n",
    "    costs = []\n",
    "    m = X.shape[1]\n",
    "    t=0\n",
    "#     if not parameters:\n",
    "#         try:\n",
    "#             parameters\n",
    "#         except NameError:\n",
    "#             parameters = initialize_parameters(layer_dims)\n",
    "    if parameters is None:\n",
    "        parameters = initialize_parameters(layer_dims)\n",
    "    \n",
    "    acts = organize_activations(activations,len(layer_dims)-1)\n",
    "    \n",
    "    if optimizer==\"adam\":\n",
    "        v,s = initialize_adam(parameters)\n",
    "        \n",
    "    keep_probs = get_keep_probs(drop_probs)\n",
    "        \n",
    "    for i in range(epochs):\n",
    "        cost = 0\n",
    "        mini_batches = random_mini_batches(X,Y,batch_size,shuffle)\n",
    "        for batch in mini_batches:\n",
    "            (mini_x,mini_y) = batch\n",
    "            if keep_probs is None:\n",
    "                A_L,caches = forward_propagation(mini_x,parameters,acts)\n",
    "            else:\n",
    "                A_L,caches = forward_propagation_with_dropouts(mini_x,parameters,acts=acts,keep_probs=keep_probs)\n",
    "            cost += loss_with_regularization(A_L,mini_y,parameters=parameters,lambd=lambd) #default lambd=0. \n",
    "            grads = backprop(A_L,mini_y,caches,acts=acts,lambd=lambd,keep_probs=keep_probs)\n",
    "            #update parameters:\n",
    "            if optimizer==\"adam\":\n",
    "                t = t+1\n",
    "                parameters,v,s = update_parameters_with_adam(parameters,grads,v,s,t,lr,beta1,beta2)\n",
    "            else:\n",
    "                parameters = update_parameters(parameters,grads,lr)\n",
    "        \n",
    "        cost = cost/len(mini_batches)\n",
    "        if print_cost!=0 and i % print_cost == 0:\n",
    "            print (\"Cost after iteration %i: %f\" % (i, cost))\n",
    "            predict(X,Y,parameters)\n",
    "            if validation_data is not None:\n",
    "              predict(validation_data[0],validation_data[1],parameters)\n",
    "        if print_cost!=0 and i % print_cost == 0:\n",
    "            costs.append(cost)\n",
    "    return parameters"
   ]
  },
  {
   "cell_type": "code",
   "execution_count": 73,
   "metadata": {
    "executionInfo": {
     "elapsed": 2624,
     "status": "ok",
     "timestamp": 1609849952810,
     "user": {
      "displayName": "SB- 9",
      "photoUrl": "https://lh3.googleusercontent.com/a-/AOh14Ggaealg2y2yZqJ6RpX3cZBcdBwTfdZCR-fQeicC-A=s64",
      "userId": "01448517634576686850"
     },
     "user_tz": -330
    },
    "id": "xgpwrXCsFAoB"
   },
   "outputs": [],
   "source": []
  },
  {
   "cell_type": "markdown",
   "metadata": {},
   "source": [
    "# importing cifar data"
   ]
  },
  {
   "cell_type": "code",
   "execution_count": 28,
   "metadata": {
    "colab": {
     "base_uri": "https://localhost:8080/",
     "height": 266
    },
    "executionInfo": {
     "elapsed": 1688,
     "status": "ok",
     "timestamp": 1609912535965,
     "user": {
      "displayName": "SB- 9",
      "photoUrl": "https://lh3.googleusercontent.com/a-/AOh14Ggaealg2y2yZqJ6RpX3cZBcdBwTfdZCR-fQeicC-A=s64",
      "userId": "01448517634576686850"
     },
     "user_tz": -330
    },
    "id": "eGnppVGvFBIk",
    "outputId": "b52ccd8a-8c18-4eb5-b298-045f4233037e",
    "scrolled": false
   },
   "outputs": [
    {
     "data": {
      "image/png": "[encoded data removed]",
      "text/plain": [
       "<Figure size 432x288 with 1 Axes>"
      ]
     },
     "metadata": {
      "needs_background": "light",
      "tags": []
     },
     "output_type": "display_data"
    }
   ],
   "source": [
    "#CIFAR\n",
    "\n",
    "x = np.array(df1)\n",
    "y_ = np.array(df2)\n",
    "x = x.reshape((1024,60000))\n",
    "y_ = y_.reshape((10,60000))\n",
    "x = x/255.0 \n",
    "#separating train and test\n",
    "x_train = x[:,:-10000]\n",
    "x_test = x[:,-10000:]\n",
    "y_test = y_[:,-10000:]\n",
    "y_train = y_[:,:-10000]\n",
    "\n",
    "x_train = x_train.T\n",
    "x_test = x_test.T\n",
    "x_train = x_train.reshape((50000,32,32))\n",
    "x_test = x_test.reshape((10000,32,32))\n",
    "# x_train = tf.keras.utils.normalize(x_train, axis=1)\n",
    "# x_test = tf.keras.utils.normalize(x_test, axis=1)\n",
    "plt.imshow(x_train[0],cmap=plt.cm.binary)\n",
    "\n",
    "x_train = x_train.reshape((50000,1024))\n",
    "x_train = x_train.T\n",
    "x_test = x_test.reshape((10000,1024))\n",
    "x_test = x_test.T"
   ]
  },
  {
   "cell_type": "markdown",
   "metadata": {},
   "source": [
    "# training:"
   ]
  },
  {
   "cell_type": "code",
   "execution_count": 47,
   "metadata": {
    "colab": {
     "base_uri": "https://localhost:8080/"
    },
    "executionInfo": {
     "elapsed": 15416,
     "status": "ok",
     "timestamp": 1609914248022,
     "user": {
      "displayName": "SB- 9",
      "photoUrl": "https://lh3.googleusercontent.com/a-/AOh14Ggaealg2y2yZqJ6RpX3cZBcdBwTfdZCR-fQeicC-A=s64",
      "userId": "01448517634576686850"
     },
     "user_tz": -330
    },
    "id": "27cx6Zm-27gj",
    "outputId": "f0a43c22-1287-457d-c470-9bf1480033a0"
   },
   "outputs": [
    {
     "name": "stdout",
     "output_type": "stream",
     "text": [
      "Cost after iteration 0: 2.262942\n",
      "50.38199999999999\n",
      "43.02\n"
     ]
    }
   ],
   "source": [
    "lay = [x_train.shape[0],512,10]\n",
    "try:\n",
    "  p\n",
    "except NameError:\n",
    "  p =  initialize_parameters(lay)\n",
    "a = ['relu',\"sigmoid\"]\n",
    "drops = None\n",
    "p = fit(x_train,y_train,layer_dims=lay,activations=a,parameters=p,validation_data=(x_test,y_test),drop_probs=drops,lr=0.001,epochs=1,print_cost=1)"
   ]
  },
  {
   "cell_type": "code",
   "execution_count": 48,
   "metadata": {
    "colab": {
     "base_uri": "https://localhost:8080/"
    },
    "executionInfo": {
     "elapsed": 2992,
     "status": "ok",
     "timestamp": 1609914278849,
     "user": {
      "displayName": "SB- 9",
      "photoUrl": "https://lh3.googleusercontent.com/a-/AOh14Ggaealg2y2yZqJ6RpX3cZBcdBwTfdZCR-fQeicC-A=s64",
      "userId": "01448517634576686850"
     },
     "user_tz": -330
    },
    "id": "3fWPVB7P4Syu",
    "outputId": "3e18b6f7-e2a4-49dd-ba15-4b0e316fd8b4"
   },
   "outputs": [
    {
     "name": "stdout",
     "output_type": "stream",
     "text": [
      "50.38199999999999\n",
      "43.02\n"
     ]
    }
   ],
   "source": [
    "predict(x_train,y_train,p)\n",
    "predict(x_test,y_test,p)"
   ]
  },
  {
   "cell_type": "code",
   "execution_count": 40,
   "metadata": {
    "executionInfo": {
     "elapsed": 1052,
     "status": "ok",
     "timestamp": 1609913384410,
     "user": {
      "displayName": "SB- 9",
      "photoUrl": "https://lh3.googleusercontent.com/a-/AOh14Ggaealg2y2yZqJ6RpX3cZBcdBwTfdZCR-fQeicC-A=s64",
      "userId": "01448517634576686850"
     },
     "user_tz": -330
    },
    "id": "B2GrUZu-6dOO"
   },
   "outputs": [],
   "source": [
    "p = initialize_parameters(lay)"
   ]
  },
  {
   "cell_type": "code",
   "execution_count": 5,
   "metadata": {
    "colab": {
     "base_uri": "https://localhost:8080/"
    },
    "executionInfo": {
     "elapsed": 43977,
     "status": "ok",
     "timestamp": 1609908318659,
     "user": {
      "displayName": "SB- 9",
      "photoUrl": "https://lh3.googleusercontent.com/a-/AOh14Ggaealg2y2yZqJ6RpX3cZBcdBwTfdZCR-fQeicC-A=s64",
      "userId": "01448517634576686850"
     },
     "user_tz": -330
    },
    "id": "FzWmypRfdr_S",
    "outputId": "bd698763-33d6-4310-d184-a647be273398"
   },
   "outputs": [
    {
     "name": "stdout",
     "output_type": "stream",
     "text": [
      "Requirement already satisfied: numba in /usr/local/lib/python3.6/dist-packages (0.48.0)\n",
      "Requirement already satisfied: llvmlite<0.32.0,>=0.31.0dev0 in /usr/local/lib/python3.6/dist-packages (from numba) (0.31.0)\n",
      "Requirement already satisfied: setuptools in /usr/local/lib/python3.6/dist-packages (from numba) (51.0.0)\n",
      "Requirement already satisfied: numpy>=1.15 in /usr/local/lib/python3.6/dist-packages (from numba) (1.19.4)\n",
      "/usr/local/cuda-10.0/nvvm/libdevice\n",
      "/usr/local/cuda-10.1/nvvm/libdevice\n",
      "/usr/local/cuda-10.0/nvvm/lib64/libnvvm.so\n",
      "/usr/local/cuda-10.1/nvvm/lib64/libnvvm.so\n"
     ]
    }
   ],
   "source": [
    "!pip install numba\n",
    "!find / -iname 'libdevice'\n",
    "!find / -iname 'libnvvm.so'\n",
    "from numba import jit, njit, vectorize, cuda"
   ]
  },
  {
   "cell_type": "code",
   "execution_count": 15,
   "metadata": {
    "executionInfo": {
     "elapsed": 944,
     "status": "ok",
     "timestamp": 1609909164028,
     "user": {
      "displayName": "SB- 9",
      "photoUrl": "https://lh3.googleusercontent.com/a-/AOh14Ggaealg2y2yZqJ6RpX3cZBcdBwTfdZCR-fQeicC-A=s64",
      "userId": "01448517634576686850"
     },
     "user_tz": -330
    },
    "id": "hvcPnjJG4MTm"
   },
   "outputs": [],
   "source": [
    "@jit\n",
    "def lol(a,b):\n",
    "  return a+b"
   ]
  },
  {
   "cell_type": "code",
   "execution_count": 16,
   "metadata": {
    "colab": {
     "base_uri": "https://localhost:8080/"
    },
    "executionInfo": {
     "elapsed": 22679,
     "status": "ok",
     "timestamp": 1609909189305,
     "user": {
      "displayName": "SB- 9",
      "photoUrl": "https://lh3.googleusercontent.com/a-/AOh14Ggaealg2y2yZqJ6RpX3cZBcdBwTfdZCR-fQeicC-A=s64",
      "userId": "01448517634576686850"
     },
     "user_tz": -330
    },
    "id": "20VrIfQZACrL",
    "outputId": "c74ce70d-b8c5-4f5c-e2ec-ddff202d4e28"
   },
   "outputs": [
    {
     "name": "stdout",
     "output_type": "stream",
     "text": [
      "1 loop, best of 3: 5.29 s per loop\n"
     ]
    }
   ],
   "source": [
    "%timeit for i in range(100): a+b"
   ]
  },
  {
   "cell_type": "code",
   "execution_count": null,
   "metadata": {
    "id": "JJIuOWm-AlSo"
   },
   "outputs": [],
   "source": []
  }
 ],
 "metadata": {
  "colab": {
   "authorship_tag": "ABX9TyOL76Of01htLCZj7hoPcVpP",
   "collapsed_sections": [],
   "mount_file_id": "1Np_TAxu6GQGEzYzREfN-5Ot1uRuKj2vn",
   "name": "cifar-10_90%acc.ipynb",
   "provenance": [],
   "toc_visible": true
  },
  "kernelspec": {
   "display_name": "Python 3",
   "language": "python",
   "name": "python3"
  },
  "language_info": {
   "codemirror_mode": {
    "name": "ipython",
    "version": 3
   },
   "file_extension": ".py",
   "mimetype": "text/x-python",
   "name": "python",
   "nbconvert_exporter": "python",
   "pygments_lexer": "ipython3",
   "version": "3.6.9"
  }
 },
 "nbformat": 4,
 "nbformat_minor": 1
}
