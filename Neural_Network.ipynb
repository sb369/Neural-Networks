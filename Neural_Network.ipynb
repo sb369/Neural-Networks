{
 "cells": [
  {
   "cell_type": "code",
   "execution_count": 247,
   "metadata": {},
   "outputs": [],
   "source": [
    "import tensorflow as tf\n",
    "import numpy as np\n",
    "import pandas as pd\n",
    "import cv2 as cv\n",
    "import matplotlib.pyplot as plt"
   ]
  },
  {
   "cell_type": "markdown",
   "metadata": {},
   "source": [
    "# numpy implementation of neural nets"
   ]
  },
  {
   "cell_type": "code",
   "execution_count": 248,
   "metadata": {},
   "outputs": [],
   "source": [
    "def sigmoid(z):\n",
    "    a = 1/(1 + np.exp(-z))\n",
    "    return a"
   ]
  },
  {
   "cell_type": "code",
   "execution_count": 249,
   "metadata": {},
   "outputs": [],
   "source": [
    "def relu(Z):\n",
    "    z = np.copy(Z)\n",
    "    np.maximum(z,0,z)\n",
    "    return z"
   ]
  },
  {
   "cell_type": "code",
   "execution_count": 250,
   "metadata": {},
   "outputs": [],
   "source": [
    "def leaky_relu(Z,slope=0.001):\n",
    "    z = np.copy(Z)\n",
    "    np.maximum(z,slope*z,z)\n",
    "    return z"
   ]
  },
  {
   "cell_type": "code",
   "execution_count": 292,
   "metadata": {},
   "outputs": [],
   "source": [
    "def derivative_leaky(a,slope=0.001):\n",
    "    da = np.int64(a>0)*1 + np.int64(a<=0)*slope\n",
    "    return da"
   ]
  },
  {
   "cell_type": "code",
   "execution_count": 252,
   "metadata": {},
   "outputs": [],
   "source": [
    "def softmax(z):\n",
    "    a = np.exp(z)/np.sum(np.exp(z),axis=0)\n",
    "    return a"
   ]
  },
  {
   "cell_type": "code",
   "execution_count": 289,
   "metadata": {},
   "outputs": [],
   "source": [
    "def derivative_relu(a):\n",
    "    da = np.int64(a>0)*1\n",
    "    return da"
   ]
  },
  {
   "cell_type": "code",
   "execution_count": 254,
   "metadata": {},
   "outputs": [],
   "source": [
    "def derivative_sig(a):\n",
    "    da = a * (1-a)\n",
    "    return da"
   ]
  },
  {
   "cell_type": "code",
   "execution_count": 255,
   "metadata": {},
   "outputs": [],
   "source": [
    "def initialize_parameters(layer_dims):\n",
    "    # layer_dims is a list of nodes in each layer. architechture of the network\n",
    "    # we are doing he-initialization\n",
    "    parameters = {}\n",
    "    L = len(layer_dims)\n",
    "    \n",
    "    for l in range(1,L):\n",
    "        parameters[\"W\"+str(l)] = np.random.randn(layer_dims[l],layer_dims[l-1]) * np.sqrt(2/layer_dims[l-1])\n",
    "        parameters[\"b\"+str(l)] = np.zeros((layer_dims[l],1))\n",
    "        \n",
    "        assert(parameters['W' + str(l)].shape == (layer_dims[l], layer_dims[l - 1]))\n",
    "        assert(parameters['b' + str(l)].shape == (layer_dims[l], 1))\n",
    "    \n",
    "    return parameters"
   ]
  },
  {
   "cell_type": "code",
   "execution_count": 449,
   "metadata": {},
   "outputs": [],
   "source": [
    "def organize_activations(activations,L):\n",
    "    #activations: list of strings of activations\n",
    "    #L: no. of layers (excluding input)\n",
    "    acts = {}\n",
    "    if activations is None:\n",
    "        for l in range(1,L):\n",
    "            acts[\"act\"+str(l)] = \"relu\"\n",
    "        acts[\"act\"+str(L)] = \"sigmoid\"\n",
    "    else:\n",
    "        for l in range(1,L+1):\n",
    "            acts[\"act\"+str(l)] = activations[l-1]\n",
    "    return acts"
   ]
  },
  {
   "cell_type": "code",
   "execution_count": 450,
   "metadata": {},
   "outputs": [],
   "source": [
    "def get_keep_probs(d):\n",
    "    if d is None:\n",
    "        return None\n",
    "    else :\n",
    "        d = np.array(d)\n",
    "        a = 1-d\n",
    "        return a"
   ]
  },
  {
   "cell_type": "code",
   "execution_count": 318,
   "metadata": {},
   "outputs": [],
   "source": [
    "def find_z(A_prev,W,b):\n",
    "    # A_prev: activation from prev layer\n",
    "    # W,b: weights and bias of current layer\n",
    "    \n",
    "    z = np.dot(W,A_prev) + b\n",
    "    \n",
    "    assert(z.shape == (W.shape[0],A_prev.shape[1]))\n",
    "    cache = (A_prev,W,b)\n",
    "    \n",
    "    return z,cache #cache format returned for a layer: (A_prev,W,b)"
   ]
  },
  {
   "cell_type": "code",
   "execution_count": 258,
   "metadata": {},
   "outputs": [],
   "source": [
    "def forward_activation(A_prev,W,b,activation):\n",
    "    z,cache = find_z(A_prev,W,b)\n",
    "    \n",
    "    if activation == \"sigmoid\":\n",
    "        a = sigmoid(z)\n",
    "    elif activation == \"relu\":\n",
    "        a = relu(z)\n",
    "    elif activation == \"softmax\":\n",
    "        a = softmax(z)\n",
    "    elif activation == \"leaky_relu\":\n",
    "        a = leaky_relu(z)\n",
    "    \n",
    "    assert (a.shape == (W.shape[0], A_prev.shape[1]))\n",
    "    cache = (cache,a)\n",
    "    \n",
    "    return a,cache #cache format for a layer: ((A_prev,W,b),A)"
   ]
  },
  {
   "cell_type": "code",
   "execution_count": 448,
   "metadata": {},
   "outputs": [],
   "source": [
    "#feed forward network\n",
    "def forward_propagation(X,parameters,acts=None):\n",
    "    L = len(parameters)//2\n",
    "    A = X\n",
    "    caches = []\n",
    "    \n",
    "    if acts is None:\n",
    "        acts = organize_activations(acts,L)\n",
    "    \n",
    "    for l in range(1,L):\n",
    "        A_prev = A\n",
    "        A,cache = forward_activation(A_prev,parameters[\"W\"+str(l)],parameters[\"b\"+str(l)],activation=acts[\"act\"+str(l)])\n",
    "        caches.append(cache)\n",
    "        \n",
    "    A_L,cache = forward_activation(A,parameters[\"W\"+str(L)],parameters[\"b\"+str(L)],activation=acts[\"act\"+str(L)])\n",
    "    caches.append(cache)\n",
    "    \n",
    "    return A_L,caches #caches is for each layer(except input): ((A_prev,W,b),A)"
   ]
  },
  {
   "cell_type": "code",
   "execution_count": 447,
   "metadata": {},
   "outputs": [],
   "source": [
    "#forward prop with dropouts:\n",
    "def forward_activation_with_dropouts(A_prev,W,b,activation,keep_prob):\n",
    "    z,cache = find_z(A_prev,W,b)\n",
    "    \n",
    "    if activation == \"sigmoid\":\n",
    "        a = sigmoid(z)\n",
    "    elif activation == \"relu\":\n",
    "        a = relu(z)\n",
    "    elif activation == \"softmax\":\n",
    "        a = softmax(z)\n",
    "    elif activation == \"leaky_relu\":\n",
    "        a = leaky_relu(z)\n",
    "    \n",
    "    #dropping out\n",
    "    D = np.random.rand(a.shape[0],a.shape[1])\n",
    "    D = D < keep_prob\n",
    "    a = a * D\n",
    "    a = a / keep_prob\n",
    "    \n",
    "    assert (a.shape == (W.shape[0], A_prev.shape[1]))\n",
    "    cache = (cache,a,D)\n",
    "    \n",
    "    return a,cache #cache format for a layer: ((A_prev,W,b),A,D)\n",
    "\n",
    "def forward_propagation_with_dropouts(X,parameters,keep_probs,acts=None):\n",
    "    #keep_probs: list of keep_probs\n",
    "    L = len(parameters)//2\n",
    "    A = X\n",
    "    caches = []\n",
    "    \n",
    "    if acts is None:\n",
    "        acts = organize_activations(acts,L)\n",
    "    \n",
    "    for l in range(1,L):\n",
    "        A_prev = A\n",
    "        A,cache = forward_activation_with_dropouts(A_prev,parameters[\"W\"+str(l)],parameters[\"b\"+str(l)],activation=acts[\"act\"+str(l)],keep_prob=keep_probs[l-1])\n",
    "        caches.append(cache)\n",
    "        \n",
    "    A_L,cache = forward_activation_with_dropouts(A,parameters[\"W\"+str(L)],parameters[\"b\"+str(L)],activation=acts[\"act\"+str(L)],keep_prob=1)\n",
    "    caches.append(cache)\n",
    "    \n",
    "    return A_L,caches # caches for each layer: ((A_prev,W,b),A,D)"
   ]
  },
  {
   "cell_type": "code",
   "execution_count": 312,
   "metadata": {},
   "outputs": [],
   "source": [
    "def loss(h,y):\n",
    "    #L_sum = np.sum(y*np.log(h)) + np.sum((1-y)*(np.log(1-h)))\n",
    "    #even if one prediction is way off then cost shoots up to inf. you can use any of the two eqns in this code\n",
    "    L_sum = np.sum(np.log(h[y==1])) + np.sum(np.log(1-h[y==0]))\n",
    "    m = y.shape[1]\n",
    "    L = -(1/m) * L_sum\n",
    "\n",
    "    return L"
   ]
  },
  {
   "cell_type": "code",
   "execution_count": 319,
   "metadata": {},
   "outputs": [],
   "source": [
    "def loss_with_regularization(h,y,parameters,lambd):\n",
    "    m = y.shape[1]\n",
    "    L = len(parameters)//2\n",
    "    cross_entropy_cost = loss(h,y)\n",
    "    L2_regularization_cost = 0\n",
    "    for l in range(L):\n",
    "        L2_regularization_cost += np.sum(np.square(parameters[\"W\"+str(l+1)]))\n",
    "    L2_regularization_cost = lambd * L2_regularization_cost / (2*m)\n",
    "    cost = cross_entropy_cost + L2_regularization_cost\n",
    "    return cost"
   ]
  },
  {
   "cell_type": "code",
   "execution_count": 406,
   "metadata": {},
   "outputs": [],
   "source": [
    "def find_grads(dz,cache,lambd):\n",
    "    A_prev, W, b = cache\n",
    "    m = A_prev.shape[1]\n",
    "    \n",
    "    dW = (np.dot(dz,A_prev.T) / m) + (lambd * W)/m\n",
    "    db = np.sum(dz,axis=1,keepdims=True) / m\n",
    "    dA_prev = np.dot(W.T,dz)\n",
    "    \n",
    "    assert (dA_prev.shape == A_prev.shape)\n",
    "    assert (dW.shape == W.shape)\n",
    "    assert (db.shape == b.shape)\n",
    "    \n",
    "    return dA_prev, dW, db"
   ]
  },
  {
   "cell_type": "code",
   "execution_count": 446,
   "metadata": {},
   "outputs": [],
   "source": [
    "def linear_backwards(dA,cache,activation,lambd,keep_prop=None):\n",
    "    if keep_prop is None:\n",
    "        c,A = cache\n",
    "    else:\n",
    "        c,A,D = cache\n",
    "        dA = dA * D\n",
    "        dA = dA / keep_prop\n",
    "        A = A * keep_prop # just to find accurate derivative for my defined functions. \n",
    "        #the above line won't matter in relu/leaky but better approximation for sigmoid\n",
    "        \n",
    "    if activation == \"relu\":\n",
    "        dz = dA * derivative_relu(A)\n",
    "    \n",
    "    elif activation == \"sigmoid\":\n",
    "        dz = dA * derivative_sig(A)\n",
    "        \n",
    "    elif activation == \"leaky_relu\":\n",
    "        dz = dA * derivative_leaky(A)\n",
    "     \n",
    "    dA_prev, dW, db = find_grads(dz, c,lambd)\n",
    "    return dA_prev,dW,db"
   ]
  },
  {
   "cell_type": "code",
   "execution_count": 445,
   "metadata": {},
   "outputs": [],
   "source": [
    "def backprop(A_L,Y,caches,lambd,acts=None,keep_probs=None):\n",
    "    grads = {}\n",
    "    L = len(caches)\n",
    "    m = A_L.shape[1]\n",
    "    Y = Y.reshape(A_L.shape)\n",
    "    \n",
    "    if not acts:\n",
    "        acts = organize_activations(acts,L)\n",
    "    \n",
    "    \n",
    "    cache = caches[-1]\n",
    "    grads[\"dA\" + str(L-1)], grads[\"dW\" + str(L)], grads[\"db\" + str(L)] = find_grads((A_L-Y),cache[0],lambd)\n",
    "    \n",
    "    if keep_probs is None:\n",
    "        for l in reversed(range(L-1)):\n",
    "            cache = caches[l]\n",
    "            grads[\"dA\" + str(l)], grads[\"dW\" + str(l+1)], grads[\"db\" + str(l+1)] = linear_backwards(grads[\"dA\"+str(l+1)],cache,activation=acts[\"act\"+str(l+1)],lambd=lambd)\n",
    "    \n",
    "    else:\n",
    "        for l in reversed(range(L-1)):\n",
    "            cache = caches[l]\n",
    "            grads[\"dA\" + str(l)], grads[\"dW\" + str(l+1)], grads[\"db\" + str(l+1)] = linear_backwards(grads[\"dA\"+str(l+1)],cache,activation=acts[\"act\"+str(l+1)],lambd=lambd,keep_prop=keep_probs[l])\n",
    "    \n",
    "    return grads"
   ]
  },
  {
   "cell_type": "code",
   "execution_count": 335,
   "metadata": {},
   "outputs": [],
   "source": [
    "def update_parameters(parameters,grads,learning_rate):\n",
    "    L = len(parameters)//2\n",
    "    \n",
    "    for l in range(L):\n",
    "        parameters[\"W\" + str(l+1)] = parameters[\"W\" + str(l+1)] - learning_rate * grads[\"dW\" + str(l+1)]\n",
    "        parameters[\"b\" + str(l+1)] = parameters[\"b\" + str(l+1)] - learning_rate * grads[\"db\" + str(l+1)]\n",
    "        \n",
    "    return parameters"
   ]
  },
  {
   "cell_type": "code",
   "execution_count": 336,
   "metadata": {},
   "outputs": [],
   "source": [
    "def random_mini_batches(X,Y,batch_size,shuffle):\n",
    "    m = X.shape[1]\n",
    "    batches = []\n",
    "    \n",
    "    if shuffle:\n",
    "        permutation = list(np.random.permutation(m))\n",
    "        shuffled_X = X[:,permutation]\n",
    "        shuffled_Y = Y[:,permutation]\n",
    "    \n",
    "    else:\n",
    "        shuffled_X = X\n",
    "        shuffled_Y = Y\n",
    "    \n",
    "    for i in range(m//batch_size):\n",
    "        mini_x = shuffled_X[:,i*batch_size:(i+1)*batch_size]\n",
    "        mini_y = shuffled_Y[:,i*batch_size:(i+1)*batch_size]\n",
    "        batch = (mini_x,mini_y)\n",
    "        batches.append(batch)\n",
    "    \n",
    "    if m%batch_size !=0:\n",
    "        mini_x = shuffled_X[:,batch_size*(m//batch_size):]\n",
    "        mini_y = shuffled_Y[:,batch_size*(m//batch_size):]\n",
    "        batch = (mini_x,mini_y)\n",
    "        batches.append(batch)\n",
    "    return batches"
   ]
  },
  {
   "cell_type": "code",
   "execution_count": 337,
   "metadata": {},
   "outputs": [],
   "source": [
    "def initialize_adam(parameters):\n",
    "    L = len(parameters)//2\n",
    "    v = {}\n",
    "    s = {}\n",
    "    \n",
    "    for l in range(L):\n",
    "        v[\"dW\"+str(l+1)] = np.zeros_like(parameters[\"W\"+str(l+1)])\n",
    "        v[\"db\"+str(l+1)] = np.zeros_like(parameters[\"b\"+str(l+1)])\n",
    "        \n",
    "        s[\"dW\"+str(l+1)] = np.zeros_like(parameters[\"W\"+str(l+1)])\n",
    "        s[\"db\"+str(l+1)] = np.zeros_like(parameters[\"b\"+str(l+1)])\n",
    "        \n",
    "    return v,s"
   ]
  },
  {
   "cell_type": "code",
   "execution_count": 338,
   "metadata": {},
   "outputs": [],
   "source": [
    "def update_parameters_with_adam(parameters,grads,v,s,t,lr=0.01,beta1=0.9,beta2=0.999,epsilon=1e-7):\n",
    "    L = len(parameters)//2\n",
    "    v_corrected = {}\n",
    "    s_corrected = {}\n",
    "    \n",
    "    for l in range(L):\n",
    "        v[\"dW\" + str(l + 1)] = beta1 * v[\"dW\" + str(l + 1)] + (1 - beta1) * grads['dW' + str(l + 1)]\n",
    "        v[\"db\" + str(l + 1)] = beta1 * v[\"db\" + str(l + 1)] + (1 - beta1) * grads['db' + str(l + 1)]\n",
    "        \n",
    "        s[\"dW\" + str(l + 1)] = beta2 * s[\"dW\" + str(l + 1)] + (1 - beta2) * np.power(grads['dW' + str(l + 1)], 2)\n",
    "        s[\"db\" + str(l + 1)] = beta2 * s[\"db\" + str(l + 1)] + (1 - beta2) * np.power(grads['db' + str(l + 1)], 2)\n",
    "        \n",
    "        v_corrected[\"dW\" + str(l + 1)] = v[\"dW\" + str(l + 1)] / (1 - np.power(beta1, t))\n",
    "        v_corrected[\"db\" + str(l + 1)] = v[\"db\" + str(l + 1)] / (1 - np.power(beta1, t))\n",
    "        \n",
    "        s_corrected[\"dW\" + str(l + 1)] = s[\"dW\" + str(l + 1)] / (1 - np.power(beta2, t))\n",
    "        s_corrected[\"db\" + str(l + 1)] = s[\"db\" + str(l + 1)] / (1 - np.power(beta2, t))\n",
    "        \n",
    "        parameters[\"W\"+str(l+1)] = parameters[\"W\"+str(l+1)] - lr * (v_corrected[\"dW\"+str(l+1)]/np.sqrt(s_corrected[\"dW\"+str(l+1)]+epsilon))\n",
    "        parameters[\"b\"+str(l+1)] = parameters[\"b\"+str(l+1)] - lr * (v_corrected[\"db\"+str(l+1)]/np.sqrt(s_corrected[\"db\"+str(l+1)]+epsilon))\n",
    "        \n",
    "    return parameters,v,s  "
   ]
  },
  {
   "cell_type": "code",
   "execution_count": 474,
   "metadata": {},
   "outputs": [],
   "source": [
    "def predict(X,Y,parameters):\n",
    "    Y_pred,c = forward_propagation(X,parameters)\n",
    "    prediction = np.argmax(Y_pred, axis=0)\n",
    "    labels = np.argmax(Y, axis=0)\n",
    "\n",
    "    diff=prediction-labels \n",
    "    accuracy = 1.0 - (float(np.count_nonzero(diff)) / len(diff))\n",
    "    print(accuracy*100)\n",
    "    return accuracy*100"
   ]
  },
  {
   "cell_type": "code",
   "execution_count": 464,
   "metadata": {},
   "outputs": [],
   "source": [
    "def fit(X,Y,layer_dims,parameters=None,activations=None,drop_probs=None,lr=0.01,beta1=0.9,beta2=0.999,lambd=0,epochs=3,batch_size=256,shuffle=True,optimizer=\"adam\",print_cost=0):\n",
    "    costs = []\n",
    "    m = X.shape[1]\n",
    "    t=0\n",
    "#     if not parameters:\n",
    "#         try:\n",
    "#             parameters\n",
    "#         except NameError:\n",
    "#             parameters = initialize_parameters(layer_dims)\n",
    "    if parameters is None:\n",
    "        parameters = initialize_parameters(layer_dims)\n",
    "    \n",
    "    acts = organize_activations(activations,len(layer_dims)-1)\n",
    "    \n",
    "    if optimizer==\"adam\":\n",
    "        v,s = initialize_adam(parameters)\n",
    "        \n",
    "    keep_probs = get_keep_probs(drop_probs)\n",
    "        \n",
    "    for i in range(epochs):\n",
    "        cost = 0\n",
    "        mini_batches = random_mini_batches(X,Y,batch_size,shuffle)\n",
    "        for batch in mini_batches:\n",
    "            (mini_x,mini_y) = batch\n",
    "            if keep_probs is None:\n",
    "                A_L,caches = forward_propagation(mini_x,parameters,acts)\n",
    "            else:\n",
    "                A_L,caches = forward_propagation_with_dropouts(mini_x,parameters,acts=acts,keep_probs=keep_probs)\n",
    "            cost += loss_with_regularization(A_L,mini_y,parameters=parameters,lambd=lambd) #default lambd=0. \n",
    "            grads = backprop(A_L,mini_y,caches,acts=acts,lambd=lambd,keep_probs=keep_probs)\n",
    "            #update parameters:\n",
    "            if optimizer==\"adam\":\n",
    "                t = t+1\n",
    "                parameters,v,s = update_parameters_with_adam(parameters,grads,v,s,t,lr,beta1,beta2)\n",
    "            else:\n",
    "                parameters = update_parameters(parameters,grads,lr)\n",
    "        \n",
    "        cost = cost/len(mini_batches)\n",
    "        if print_cost!=0 and i % print_cost == 0:\n",
    "            print (\"Cost after iteration %i: %f\" % (i, cost))\n",
    "        if print_cost!=0 and i % print_cost == 0:\n",
    "            costs.append(cost)\n",
    "    return parameters"
   ]
  },
  {
   "cell_type": "code",
   "execution_count": null,
   "metadata": {},
   "outputs": [],
   "source": []
  },
  {
   "cell_type": "markdown",
   "metadata": {},
   "source": [
    "## README FOR FIT FUNCTION\n",
    "### X : x_train of shape (n_x,m)\n",
    "### Y : y_train of shape (n_classes,m) , hot_coding\n",
    "### layer_dims : full architechture : input, hidden,output in a tuple/list\n",
    "\n",
    "### activations: list of strings of activations. by default all relus and last sigmoid\n",
    "### parameters: if we have already trained parameters. else initialize them with function initialize_parameters()\n",
    "\n",
    "### drop_probs: if you wanna add dropout: list of dropouts for every layer (output layer is optional. takes 0(wont drop))\n",
    "### lr: learning rate. default 0.01\n",
    "### beta1: default 0.9\n",
    "### beta2: default 0.999\n",
    "### lambd: if regularization. default=0 i.e no regularization\n",
    "### epochs: default 3\n",
    "### batch_size: default 256\n",
    "### optimizer: default adam\n",
    "### print_cost: after how many iterations"
   ]
  },
  {
   "cell_type": "code",
   "execution_count": null,
   "metadata": {},
   "outputs": [],
   "source": []
  },
  {
   "cell_type": "code",
   "execution_count": 482,
   "metadata": {},
   "outputs": [],
   "source": [
    "a = [\"relu\",'relu',\"sigmoid\"]\n",
    "lay = [x_train.shape[0],256,128,10]\n",
    "drops = None"
   ]
  },
  {
   "cell_type": "code",
   "execution_count": 483,
   "metadata": {},
   "outputs": [
    {
     "name": "stdout",
     "output_type": "stream",
     "text": [
      "Cost after iteration 0: 0.196730\n",
      "Cost after iteration 1: 0.155054\n",
      "Cost after iteration 2: 0.123349\n"
     ]
    }
   ],
   "source": [
    "p = fit(x_train,y_train,layer_dims=lay,activations=a,parameters=p,lr=0.001,epochs=3,print_cost=1)"
   ]
  },
  {
   "cell_type": "code",
   "execution_count": 484,
   "metadata": {},
   "outputs": [
    {
     "name": "stdout",
     "output_type": "stream",
     "text": [
      "97.04\n"
     ]
    },
    {
     "data": {
      "text/plain": [
       "97.04"
      ]
     },
     "execution_count": 484,
     "metadata": {},
     "output_type": "execute_result"
    }
   ],
   "source": [
    "predict(x_test,y_test,p)"
   ]
  },
  {
   "cell_type": "code",
   "execution_count": 269,
   "metadata": {},
   "outputs": [
    {
     "data": {
      "text/plain": [
       "{5, 7, 9}"
      ]
     },
     "execution_count": 269,
     "metadata": {},
     "output_type": "execute_result"
    }
   ],
   "source": [
    "try:\n",
    "    hexa\n",
    "except NameError:\n",
    "    hexa = 7\n",
    "hexa"
   ]
  },
  {
   "cell_type": "code",
   "execution_count": 509,
   "metadata": {},
   "outputs": [
    {
     "data": {
      "image/png": "[encoded data removed]",
      "text/plain": [
       "<Figure size 432x288 with 1 Axes>"
      ]
     },
     "metadata": {},
     "output_type": "display_data"
    }
   ],
   "source": [
    "mnist_data = tf.keras.datasets.mnist\n",
    "(x, y), (x_test, y_test) = mnist_data.load_data()\n",
    "# x_train=np.reshape(x_train,(60000,784))\n",
    "# x_train = x_train.T\n",
    "# y_new = np.eye(10)[y_train.astype('int32')]\n",
    "# print(y_train.shape)\n",
    "# y_new = y_new.T.reshape(10,60000)\n",
    "# y_train = y_new\n",
    "# print(x_train.shape)\n",
    "# print(y_new[:,0])\n",
    "\n",
    "x=np.reshape(x,(60000,784))\n",
    "x = x.T\n",
    "i = np.arange(y.shape[0])\n",
    "y_ = np.zeros((10,60000))\n",
    "y_[y.astype(int),i] = 1\n",
    "plt.imshow(x[:,0].reshape(28,28), cmap = plt.cm.binary)\n",
    "\n",
    "x = x/255.0\n",
    "#separating train and test\n",
    "x_train = x[:,:-10000]\n",
    "x_test = x[:,-10000:]\n",
    "y_test = y_[:,-10000:]\n",
    "y_train = y_[:,:-10000]\n",
    "# x_train = tf.keras.utils.normalize(x_train, axis=1)\n",
    "# x_test = tf.keras.utils.normalize(x_test, axis=1)"
   ]
  },
  {
   "cell_type": "code",
   "execution_count": 516,
   "metadata": {},
   "outputs": [],
   "source": [
    "model = tf.keras.models.Sequential()\n",
    "model.add(tf.keras.layers.Flatten(input_shape=(28,28)))\n",
    "model.add(tf.keras.layers.Dense(units=1024, activation=\"relu\"))\n",
    "model.add(tf.keras.layers.Dropout(0.3))\n",
    "model.add(tf.keras.layers.Dense(units=10, activation='softmax'))"
   ]
  },
  {
   "cell_type": "code",
   "execution_count": 517,
   "metadata": {},
   "outputs": [
    {
     "name": "stdout",
     "output_type": "stream",
     "text": [
      "_________________________________________________________________\n",
      "Layer (type)                 Output Shape              Param #   \n",
      "=================================================================\n",
      "flatten_2 (Flatten)          (None, 784)               0         \n",
      "_________________________________________________________________\n",
      "dense_17 (Dense)             (None, 1024)              803840    \n",
      "_________________________________________________________________\n",
      "dropout_7 (Dropout)          (None, 1024)              0         \n",
      "_________________________________________________________________\n",
      "dense_18 (Dense)             (None, 10)                10250     \n",
      "=================================================================\n",
      "Total params: 814,090\n",
      "Trainable params: 814,090\n",
      "Non-trainable params: 0\n",
      "_________________________________________________________________\n"
     ]
    }
   ],
   "source": [
    "model.summary()"
   ]
  },
  {
   "cell_type": "code",
   "execution_count": 519,
   "metadata": {
    "scrolled": true
   },
   "outputs": [
    {
     "name": "stdout",
     "output_type": "stream",
     "text": [
      "Train on 50000 samples, validate on 10000 samples\n",
      "Epoch 1/1\n",
      "50000/50000 [==============================]50000/50000 [==============================] - 41s 816us/step - loss: 0.1239 - acc: 0.9630 - val_loss: 0.0949 - val_acc: 0.9736\n",
      "\n"
     ]
    },
    {
     "data": {
      "text/plain": [
       "<tensorflow.python.keras._impl.keras.callbacks.History at 0x7f0207fed2b0>"
      ]
     },
     "execution_count": 519,
     "metadata": {},
     "output_type": "execute_result"
    }
   ],
   "source": [
    "model.compile(optimizer= 'adam' , loss ='categorical_crossentropy' , metrics=['accuracy'])\n",
    "model.fit(x_train, y_train, epochs=1,validation_data=(x_test,y_test),batch_size=128)"
   ]
  },
  {
   "cell_type": "code",
   "execution_count": 510,
   "metadata": {},
   "outputs": [],
   "source": [
    "x_train = x_train.T\n",
    "x_test = x_test.T\n",
    "y_test = y_test.T\n",
    "y_train = y_train.T\n",
    "x_train = x_train.reshape((50000,28,28))\n",
    "x_test = x_test.reshape((10000,28,28))"
   ]
  },
  {
   "cell_type": "code",
   "execution_count": null,
   "metadata": {},
   "outputs": [],
   "source": []
  },
  {
   "cell_type": "code",
   "execution_count": null,
   "metadata": {},
   "outputs": [],
   "source": []
  },
  {
   "cell_type": "code",
   "execution_count": null,
   "metadata": {},
   "outputs": [],
   "source": []
  }
 ],
 "metadata": {
  "kernelspec": {
   "display_name": "Python 3",
   "language": "python",
   "name": "python3"
  },
  "language_info": {
   "codemirror_mode": {
    "name": "ipython",
    "version": 3
   },
   "file_extension": ".py",
   "mimetype": "text/x-python",
   "name": "python",
   "nbconvert_exporter": "python",
   "pygments_lexer": "ipython3",
   "version": "3.6.9"
  }
 },
 "nbformat": 4,
 "nbformat_minor": 2
}
